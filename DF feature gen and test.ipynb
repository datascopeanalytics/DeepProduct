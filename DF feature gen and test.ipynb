{
 "cells": [
  {
   "cell_type": "code",
   "execution_count": 1,
   "metadata": {},
   "outputs": [
    {
     "name": "stderr",
     "output_type": "stream",
     "text": [
      "Using TensorFlow backend.\n"
     ]
    }
   ],
   "source": [
    "%matplotlib inline\n",
    "import matplotlib.pyplot as plt\n",
    "import pandas as pd\n",
    "import numpy as np\n",
    "import PIL\n",
    "from keras.applications import VGG16,imagenet_utils\n",
    "from keras.preprocessing.image import img_to_array\n",
    "from keras.preprocessing.image import load_img\n",
    "from keras.models import Model\n",
    "import numpy as np\n",
    "import glob\n",
    "import os\n",
    "from IPython.display import Image,display\n",
    "\n",
    "import pickle\n",
    "import time"
   ]
  },
  {
   "cell_type": "code",
   "execution_count": 2,
   "metadata": {},
   "outputs": [],
   "source": [
    "from PIL import ImageDraw\n",
    "def draw_bbox(bbox):\n",
    "    img = PIL.Image.open('Data/DeepFashion/'+bbox['image_name']).convert('RGBA')\n",
    "    \n",
    "    lx = bbox['x_1']\n",
    "    ly = bbox['y_1']\n",
    "    ux = bbox['x_2']\n",
    "    uy = bbox['y_2']\n",
    "    rect = PIL.Image.new('RGBA', img.size, (255,255,255,0))\n",
    "    d = ImageDraw.Draw(img)\n",
    "    d.rectangle(((lx,ly), (ux,uy)), outline=\"red\")\n",
    "    return PIL.Image.alpha_composite(img,rect)\n",
    "\n",
    "def gen_pairs(N,image_df,feature_matrix,metric='L2'):\n",
    "    img_index = np.random.randint(image_df.shape[0],size=N)\n",
    "    if metric == 'H':\n",
    "        bin_mat = (feature_matrix > 0)\n",
    "    for i in img_index:\n",
    "        img_feature = feature_matrix[i,:]\n",
    "        if metric == 'L2':\n",
    "            dist = np.sum((feature_matrix-img_feature)**2,axis=1)\n",
    "        elif metric == 'L1':\n",
    "            dist = np.sum(np.abs(feature_matrix-img_feature),axis=1)\n",
    "        elif metric == 'H':\n",
    "            img_feature = (img_feature>0)\n",
    "            dist = np.sum(np.logical_xor(img_feature,bin_mat),axis=1)\n",
    "        \n",
    "        j=1\n",
    "        match = np.argsort(dist)[j]\n",
    "        while dist[match]<=0:\n",
    "            j += 1\n",
    "            match = np.argsort(dist)[j]\n",
    "\n",
    "        display(draw_bbox(image_df.iloc[i]))\n",
    "        display(draw_bbox(image_df.iloc[match]))"
   ]
  },
  {
   "cell_type": "code",
   "execution_count": 3,
   "metadata": {
    "collapsed": true
   },
   "outputs": [],
   "source": [
    "bbox = pd.read_table('Data/DeepFashion/list_bbox.txt',sep='\\s+')\n",
    "cat = pd.read_table('Data/DeepFashion/list_category_img.txt',sep='\\s+')\n",
    "\n",
    "tops = bbox.iloc[cat[(cat.category_label>=1) & (cat.category_label<=20)].index]\n",
    "bottoms = bbox.iloc[cat[(cat.category_label>=21) & (cat.category_label<=36)].index]\n",
    "dresses = bbox.iloc[cat[(cat.category_label>36)].index]"
   ]
  },
  {
   "cell_type": "code",
   "execution_count": 4,
   "metadata": {
    "collapsed": true
   },
   "outputs": [],
   "source": [
    "inputShape = (224, 224)\n",
    "preprocess = imagenet_utils.preprocess_input"
   ]
  },
  {
   "cell_type": "code",
   "execution_count": 5,
   "metadata": {
    "collapsed": true
   },
   "outputs": [],
   "source": [
    "def crop_resize_DF(bbox):\n",
    "    img = PIL.Image.open('Data/DeepFashion/'+bbox['image_name'])\n",
    "    lx = bbox['x_1']\n",
    "    ly = bbox['y_1']\n",
    "    ux = bbox['x_2']\n",
    "    uy = bbox['y_2']\n",
    "    \n",
    "    img = img.crop((lx,ly,ux,uy))\n",
    "    img = img.resize(inputShape, PIL.Image.ANTIALIAS)\n",
    "    return img\n",
    "\n",
    "def preprocess_DF(bbox):\n",
    "    image = crop_resize_DF(bbox)\n",
    "    image = img_to_array(image)\n",
    "    image = np.expand_dims(image,axis=0)\n",
    "    \n",
    "    return preprocess(image)"
   ]
  },
  {
   "cell_type": "code",
   "execution_count": 6,
   "metadata": {
    "collapsed": true
   },
   "outputs": [],
   "source": [
    "N = 10000\n",
    "subset = np.random.randint(bbox.shape[0],size=N)\n",
    "proc_img = []\n",
    "for i in subset:\n",
    "    proc_img.append(np.squeeze(preprocess_DF(bbox.iloc[i])))\n",
    "proc_img = np.array(proc_img)"
   ]
  },
  {
   "cell_type": "code",
   "execution_count": 34,
   "metadata": {
    "collapsed": true
   },
   "outputs": [],
   "source": [
    "df = bbox.iloc[subset]"
   ]
  },
  {
   "cell_type": "code",
   "execution_count": 9,
   "metadata": {},
   "outputs": [
    {
     "data": {
      "text/plain": [
       "6021120144"
      ]
     },
     "execution_count": 9,
     "metadata": {},
     "output_type": "execute_result"
    }
   ],
   "source": [
    "from sys import getsizeof\n",
    "getsizeof(proc_img)"
   ]
  },
  {
   "cell_type": "code",
   "execution_count": 10,
   "metadata": {},
   "outputs": [],
   "source": [
    "import pickle\n",
    "pickle.dump(bbox.iloc[subset],open('Data/feature_matrix/DF10000_bbox.p','wb'))"
   ]
  },
  {
   "cell_type": "code",
   "execution_count": 11,
   "metadata": {},
   "outputs": [],
   "source": [
    "base_model = VGG16(weights='imagenet')\n",
    "base_fc6 = Model(inputs=base_model.input,outputs=base_model.get_layer('fc1').output)\n",
    "base_fc7 = Model(inputs=base_model.input,outputs=base_model.get_layer('fc2').output)"
   ]
  },
  {
   "cell_type": "code",
   "execution_count": 15,
   "metadata": {},
   "outputs": [
    {
     "ename": "AttributeError",
     "evalue": "'list' object has no attribute '2f'",
     "output_type": "error",
     "traceback": [
      "\u001b[0;31m---------------------------------------------------------------------------\u001b[0m",
      "\u001b[0;31mAttributeError\u001b[0m                            Traceback (most recent call last)",
      "\u001b[0;32m<ipython-input-15-f69216d38ec6>\u001b[0m in \u001b[0;36m<module>\u001b[0;34m()\u001b[0m\n\u001b[1;32m      2\u001b[0m \u001b[0mfc6_base\u001b[0m \u001b[0;34m=\u001b[0m \u001b[0mbase_fc6\u001b[0m\u001b[0;34m.\u001b[0m\u001b[0mpredict\u001b[0m\u001b[0;34m(\u001b[0m\u001b[0mproc_img\u001b[0m\u001b[0;34m)\u001b[0m\u001b[0;34m\u001b[0m\u001b[0m\n\u001b[1;32m      3\u001b[0m \u001b[0mpickle\u001b[0m\u001b[0;34m.\u001b[0m\u001b[0mdump\u001b[0m\u001b[0;34m(\u001b[0m\u001b[0mfc6_base\u001b[0m\u001b[0;34m,\u001b[0m\u001b[0mopen\u001b[0m\u001b[0;34m(\u001b[0m\u001b[0;34m'Data/feature_matrix/FC6_base.p'\u001b[0m\u001b[0;34m,\u001b[0m\u001b[0;34m'wb'\u001b[0m\u001b[0;34m)\u001b[0m\u001b[0;34m)\u001b[0m\u001b[0;34m\u001b[0m\u001b[0m\n\u001b[0;32m----> 4\u001b[0;31m \u001b[0mprint\u001b[0m\u001b[0;34m(\u001b[0m\u001b[0;34m'{.2f} s'\u001b[0m\u001b[0;34m.\u001b[0m\u001b[0mformat\u001b[0m\u001b[0;34m(\u001b[0m\u001b[0;34m[\u001b[0m\u001b[0mtime\u001b[0m\u001b[0;34m.\u001b[0m\u001b[0mtime\u001b[0m\u001b[0;34m(\u001b[0m\u001b[0;34m)\u001b[0m\u001b[0;34m-\u001b[0m\u001b[0mstart\u001b[0m\u001b[0;34m]\u001b[0m\u001b[0;34m)\u001b[0m\u001b[0;34m)\u001b[0m\u001b[0;34m\u001b[0m\u001b[0m\n\u001b[0m",
      "\u001b[0;31mAttributeError\u001b[0m: 'list' object has no attribute '2f'"
     ]
    }
   ],
   "source": [
    "start = time.time()\n",
    "fc6_base = base_fc6.predict(proc_img)\n",
    "pickle.dump(fc6_base,open('Data/feature_matrix/FC6_base.p','wb'))\n",
    "print('{.2f} s'.format([time.time()-start]))"
   ]
  },
  {
   "cell_type": "code",
   "execution_count": 26,
   "metadata": {},
   "outputs": [
    {
     "name": "stdout",
     "output_type": "stream",
     "text": [
      "368 s\n"
     ]
    }
   ],
   "source": []
  },
  {
   "cell_type": "code",
   "execution_count": 27,
   "metadata": {},
   "outputs": [
    {
     "name": "stdout",
     "output_type": "stream",
     "text": [
      "188 s\n"
     ]
    }
   ],
   "source": [
    "start = time.time()\n",
    "fc7_base = base_fc7.predict(proc_img)\n",
    "pickle.dump(fc7_base,open('Data/feature_matrix/FC7_base.p','wb'))\n",
    "print('{:.0f} s'.format(time.time()-start))"
   ]
  },
  {
   "cell_type": "code",
   "execution_count": 29,
   "metadata": {},
   "outputs": [],
   "source": [
    "from keras.models import load_model\n",
    "trained_attr = load_model('DF-Category-trained-7-24.h5')\n",
    "trained_fc6 = Model(inputs=trained_attr.input,outputs=trained_attr.get_layer('fc1').output)"
   ]
  },
  {
   "cell_type": "code",
   "execution_count": 30,
   "metadata": {},
   "outputs": [
    {
     "name": "stdout",
     "output_type": "stream",
     "text": [
      "188 s\n"
     ]
    }
   ],
   "source": [
    "start = time.time()\n",
    "fc6_trained = trained_fc6.predict(proc_img)\n",
    "pickle.dump(fc6_trained,open('Data/feature_matrix/FC6_trained.p','wb'))\n",
    "print('{:.0f} s'.format(time.time()-start))"
   ]
  },
  {
   "cell_type": "code",
   "execution_count": 36,
   "metadata": {},
   "outputs": [
    {
     "name": "stderr",
     "output_type": "stream",
     "text": [
      "/usr/local/lib/python3.4/dist-packages/ipykernel_launcher.py:2: SettingWithCopyWarning: \n",
      "A value is trying to be set on a copy of a slice from a DataFrame.\n",
      "Try using .loc[row_indexer,col_indexer] = value instead\n",
      "\n",
      "See the caveats in the documentation: http://pandas.pydata.org/pandas-docs/stable/indexing.html#indexing-view-versus-copy\n",
      "  \n"
     ]
    }
   ],
   "source": [
    "cat = pd.read_table('Data/DeepFashion/list_category_img.txt',sep='\\s+')\n",
    "df['category_label'] = cat.iloc[df.index]['category_label']"
   ]
  },
  {
   "cell_type": "code",
   "execution_count": 32,
   "metadata": {},
   "outputs": [],
   "source": [
    "from PIL import ImageDraw\n",
    "def draw_bbox(bbox):\n",
    "    img = PIL.Image.open('Data/DeepFashion/'+bbox['image_name']).convert('RGBA')\n",
    "    \n",
    "    lx = bbox['x_1']\n",
    "    ly = bbox['y_1']\n",
    "    ux = bbox['x_2']\n",
    "    uy = bbox['y_2']\n",
    "    rect = PIL.Image.new('RGBA', img.size, (255,255,255,0))\n",
    "    d = ImageDraw.Draw(img)\n",
    "    d.rectangle(((lx,ly), (ux,uy)), outline=\"red\")\n",
    "    return PIL.Image.alpha_composite(img,rect)\n",
    "\n",
    "def gen_pairs(N,image_df,feature_matrix,metric='L2'):\n",
    "    img_index = np.random.randint(image_df.shape[0],size=N)\n",
    "    if metric == 'H':\n",
    "        bin_mat = (feature_matrix > 0)\n",
    "    for i in img_index:\n",
    "        img_feature = feature_matrix[i,:]\n",
    "        if metric == 'L2':\n",
    "            dist = np.sum((feature_matrix-img_feature)**2,axis=1)\n",
    "        elif metric == 'L1':\n",
    "            dist = np.sum(np.abs(feature_matrix-img_feature),axis=1)\n",
    "        elif metric == 'H':\n",
    "            img_feature = (img_feature>0)\n",
    "            dist = np.sum(np.logical_xor(img_feature,bin_mat),axis=1)\n",
    "        \n",
    "        j=1\n",
    "        match = np.argsort(dist)[j]\n",
    "        while dist[match]<=0:\n",
    "            j += 1\n",
    "            match = np.argsort(dist)[j]\n",
    "\n",
    "        display(draw_bbox(image_df.iloc[i]))\n",
    "        display(draw_bbox(image_df.iloc[match]))\n",
    "        \n",
    "def test_pairs(N,image_df,feature_matrix,metric='L2'):\n",
    "    img_index = np.random.randint(image_df.shape[0],size=N)\n",
    "    cat_match = []\n",
    "    if metric == 'H':\n",
    "        bin_mat = (feature_matrix > 0)\n",
    "    for i in img_index:\n",
    "        img_feature = feature_matrix[i,:]\n",
    "        if metric == 'L2':\n",
    "            dist = np.sum((feature_matrix-img_feature)**2,axis=1)\n",
    "        elif metric == 'L1':\n",
    "            dist = np.sum(np.abs(feature_matrix-img_feature),axis=1)\n",
    "        elif metric == 'H':\n",
    "            img_feature = (img_feature>0)\n",
    "            dist = np.sum(np.logical_xor(img_feature,bin_mat),axis=1)\n",
    "        \n",
    "        j=1\n",
    "        match = np.argsort(dist)[j]\n",
    "        while dist[match]<=0:\n",
    "            j += 1\n",
    "            match = np.argsort(dist)[j]\n",
    "\n",
    "        cat_match.append(image_df.iloc[i]['category_label'] == image_df.iloc[match]['category_label'])\n",
    "        \n",
    "    return cat_match\n",
    "\n",
    "def random_pairs(N,image_df):\n",
    "    img_index = np.random.randint(image_df.shape[0],size=N)\n",
    "    match_index = np.random.randint(image_df.shape[0],size=N)\n",
    "    return (image_df.iloc[img_index]['category_label'].values\n",
    "            == image_df.iloc[match_index]['category_label'].values)\n"
   ]
  },
  {
   "cell_type": "code",
   "execution_count": 43,
   "metadata": {
    "collapsed": true
   },
   "outputs": [],
   "source": [
    "def find_nearest(dist):\n",
    "    j=1\n",
    "    sort = np.argsort(dist)\n",
    "        \n",
    "    while dist[sort[j]]<=0:\n",
    "        j += 1\n",
    "        \n",
    "    return sort[j]\n",
    "\n",
    "def test_pairs_all_D(N,image_df,feature_matrix):\n",
    "    img_index = np.random.randint(image_df.shape[0],size=N)\n",
    "    cat_match = {'L2':[],'L1':[],'H':[]}\n",
    "  \n",
    "    bin_mat = (feature_matrix > 0)\n",
    "    \n",
    "    for i in img_index:\n",
    "        img_feature = feature_matrix[i,:]\n",
    "        L2_dist = np.sum((feature_matrix-img_feature)**2,axis=1)\n",
    "        L1_dist = np.sum(np.abs(feature_matrix-img_feature),axis=1)\n",
    "        img_feature = (img_feature>0)\n",
    "        H_dist = np.sum(np.logical_xor(img_feature,bin_mat),axis=1)\n",
    "        \n",
    "        L2_match = find_nearest(L2_dist)\n",
    "        L1_match = find_nearest(L1_dist)\n",
    "        H_match = find_nearest(H_dist)\n",
    "\n",
    "        cat_match['L2'].append(image_df.iloc[i]['category_label'] == image_df.iloc[L2_match]['category_label'])\n",
    "        cat_match['L1'].append(image_df.iloc[i]['category_label'] == image_df.iloc[L1_match]['category_label'])\n",
    "        cat_match['H'].append(image_df.iloc[i]['category_label'] == image_df.iloc[H_match]['category_label'])\n",
    "        \n",
    "    return cat_match"
   ]
  },
  {
   "cell_type": "code",
   "execution_count": 37,
   "metadata": {},
   "outputs": [
    {
     "name": "stdout",
     "output_type": "stream",
     "text": [
      "P@1: 0.116\n"
     ]
    }
   ],
   "source": [
    "r_score = random_pairs(1000,df)\n",
    "print('P@1: {}'.format(np.mean(r_score)))"
   ]
  },
  {
   "cell_type": "code",
   "execution_count": 39,
   "metadata": {},
   "outputs": [
    {
     "name": "stdout",
     "output_type": "stream",
     "text": [
      "P@1: {0.48799999999999999}\n"
     ]
    }
   ],
   "source": [
    "start = time.time()\n",
    "fc6_base_H_score = test_pairs(1000,df,fc6_base,'H')\n",
    "print('P@1: {}'.format({np.mean(fc6_base_H_score)}))"
   ]
  },
  {
   "cell_type": "code",
   "execution_count": 41,
   "metadata": {},
   "outputs": [
    {
     "name": "stdout",
     "output_type": "stream",
     "text": [
      "P@1: 0.496\n"
     ]
    }
   ],
   "source": [
    "start = time.time()\n",
    "fc7_base_H_score = test_pairs(1000,df,fc7_base,'H')\n",
    "print('P@1: {}'.format(np.mean(fc7_base_H_score)))"
   ]
  },
  {
   "cell_type": "code",
   "execution_count": 42,
   "metadata": {},
   "outputs": [
    {
     "name": "stdout",
     "output_type": "stream",
     "text": [
      "P@1: 0.505\n"
     ]
    }
   ],
   "source": [
    "start = time.time()\n",
    "fc6_trained_H_score = test_pairs(1000,df,fc6_trained,'H')\n",
    "print('P@1: {}'.format(np.mean(fc6_trained_H_score)))"
   ]
  },
  {
   "cell_type": "code",
   "execution_count": 51,
   "metadata": {},
   "outputs": [
    {
     "name": "stdout",
     "output_type": "stream",
     "text": [
      "0.56\n",
      "0.49\n",
      "0.51\n"
     ]
    }
   ],
   "source": [
    "fc6_trained_score = test_pairs_all_D(1000,df,fc6_trained)\n",
    "print(np.mean(fc6_trained_score['H']))\n",
    "print(np.mean(fc6_trained_score['L1']))\n",
    "print(np.mean(fc6_trained_score['L2']))"
   ]
  },
  {
   "cell_type": "code",
   "execution_count": 50,
   "metadata": {},
   "outputs": [
    {
     "name": "stdout",
     "output_type": "stream",
     "text": [
      "0.45\n",
      "0.45\n",
      "0.47\n"
     ]
    }
   ],
   "source": [
    "print(np.mean(fc6_trained_score['H']))\n",
    "print(np.mean(fc6_trained_score['L1']))\n",
    "print(np.mean(fc6_trained_score['L2']))"
   ]
  },
  {
   "cell_type": "code",
   "execution_count": 48,
   "metadata": {},
   "outputs": [
    {
     "data": {
      "text/plain": [
       "0.56999999999999995"
      ]
     },
     "execution_count": 48,
     "metadata": {},
     "output_type": "execute_result"
    }
   ],
   "source": [
    "np.mean(fc6_trained_H_score['H'])"
   ]
  },
  {
   "cell_type": "code",
   "execution_count": null,
   "metadata": {
    "collapsed": true
   },
   "outputs": [],
   "source": []
  }
 ],
 "metadata": {
  "kernelspec": {
   "display_name": "Python 3",
   "language": "python",
   "name": "python3"
  },
  "language_info": {
   "codemirror_mode": {
    "name": "ipython",
    "version": 3
   },
   "file_extension": ".py",
   "mimetype": "text/x-python",
   "name": "python",
   "nbconvert_exporter": "python",
   "pygments_lexer": "ipython3",
   "version": "3.4.3"
  }
 },
 "nbformat": 4,
 "nbformat_minor": 2
}
