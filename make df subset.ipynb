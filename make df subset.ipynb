{
 "cells": [
  {
   "cell_type": "code",
   "execution_count": 19,
   "metadata": {
    "collapsed": true
   },
   "outputs": [],
   "source": [
    "import pandas as pd\n",
    "import numpy as np\n",
    "import shutil\n",
    "import os\n",
    "import pickle"
   ]
  },
  {
   "cell_type": "code",
   "execution_count": 2,
   "metadata": {
    "collapsed": true
   },
   "outputs": [],
   "source": [
    "df = pd.read_table('Data/DeepFashion/list_attr_img.txt',skiprows=1,sep='\\s+',header=None)"
   ]
  },
  {
   "cell_type": "code",
   "execution_count": 3,
   "metadata": {
    "collapsed": true
   },
   "outputs": [],
   "source": [
    "bbox = pd.read_table('Data/DeepFashion/list_bbox.txt',sep='\\s+')"
   ]
  },
  {
   "cell_type": "code",
   "execution_count": 4,
   "metadata": {
    "collapsed": true
   },
   "outputs": [],
   "source": [
    "joined = bbox.join(df,lsuffix='image_name',rsuffix='0')"
   ]
  },
  {
   "cell_type": "code",
   "execution_count": 7,
   "metadata": {},
   "outputs": [],
   "source": [
    "N = 25000\n",
    "subset = np.random.randint(df.shape[0],size=N)\n",
    "part = joined.iloc[subset]"
   ]
  },
  {
   "cell_type": "code",
   "execution_count": 12,
   "metadata": {},
   "outputs": [],
   "source": [
    "pickle.dump(part,open('../df_subset/attr.p','wb'))"
   ]
  },
  {
   "cell_type": "code",
   "execution_count": 31,
   "metadata": {
    "collapsed": true
   },
   "outputs": [],
   "source": [
    "def make_target_dirs(file):\n",
    "    dirname = os.path.split(file)[0]\n",
    "    if not os.path.isdir(dirname):\n",
    "        os.makedirs(dirname)"
   ]
  },
  {
   "cell_type": "code",
   "execution_count": 29,
   "metadata": {},
   "outputs": [],
   "source": [
    "make_target_dirs('../df_subset/'+part.iloc[0]['image_name'])"
   ]
  },
  {
   "cell_type": "code",
   "execution_count": 27,
   "metadata": {},
   "outputs": [
    {
     "data": {
      "text/plain": [
       "('../df_subset/img/Brooklyn_Nets_Jersey_Top', 'img_00000013.jpg')"
      ]
     },
     "execution_count": 27,
     "metadata": {},
     "output_type": "execute_result"
    }
   ],
   "source": [
    "os.path.split('../df_subset/'+part.iloc[0]['image_name'])"
   ]
  },
  {
   "cell_type": "code",
   "execution_count": 26,
   "metadata": {},
   "outputs": [
    {
     "data": {
      "text/plain": [
       "'../df_subset/img/Brooklyn_Nets_Jersey_Top/img_00000013.jpg/img_00000013.jpg'"
      ]
     },
     "execution_count": 26,
     "metadata": {},
     "output_type": "execute_result"
    }
   ],
   "source": [
    "shutil.copy2('Data/DeepFashion/'+part.iloc[0]['image_name'],'../df_subset/'+part.iloc[0]['image_name'])"
   ]
  },
  {
   "cell_type": "code",
   "execution_count": 34,
   "metadata": {
    "scrolled": true
   },
   "outputs": [
    {
     "data": {
      "text/plain": [
       "44456     None\n",
       "14969     None\n",
       "49326     None\n",
       "239976    None\n",
       "75818     None\n",
       "122250    None\n",
       "47648     None\n",
       "175254    None\n",
       "158771    None\n",
       "116917    None\n",
       "205014    None\n",
       "53981     None\n",
       "215374    None\n",
       "77674     None\n",
       "5632      None\n",
       "192634    None\n",
       "139063    None\n",
       "196169    None\n",
       "66903     None\n",
       "43885     None\n",
       "265078    None\n",
       "283404    None\n",
       "137697    None\n",
       "281844    None\n",
       "129845    None\n",
       "25778     None\n",
       "120335    None\n",
       "251859    None\n",
       "122040    None\n",
       "266838    None\n",
       "          ... \n",
       "13258     None\n",
       "80244     None\n",
       "213392    None\n",
       "167277    None\n",
       "218415    None\n",
       "69566     None\n",
       "287974    None\n",
       "243664    None\n",
       "134437    None\n",
       "12870     None\n",
       "48234     None\n",
       "203302    None\n",
       "82732     None\n",
       "153305    None\n",
       "150455    None\n",
       "146833    None\n",
       "246254    None\n",
       "211579    None\n",
       "86412     None\n",
       "16759     None\n",
       "97250     None\n",
       "85575     None\n",
       "91189     None\n",
       "116385    None\n",
       "47753     None\n",
       "248806    None\n",
       "232090    None\n",
       "168721    None\n",
       "69489     None\n",
       "7609      None\n",
       "Name: image_name, Length: 25000, dtype: object"
      ]
     },
     "execution_count": 34,
     "metadata": {},
     "output_type": "execute_result"
    }
   ],
   "source": [
    "part['image_name'].apply(lambda x: make_target_dirs('../df_subset/'+x))"
   ]
  },
  {
   "cell_type": "code",
   "execution_count": 35,
   "metadata": {
    "collapsed": true
   },
   "outputs": [],
   "source": [
    "def copy_sub(file):\n",
    "    shutil.copy2('Data/DeepFashion/'+file,'../df_subset/'+file)"
   ]
  },
  {
   "cell_type": "code",
   "execution_count": 37,
   "metadata": {
    "scrolled": true
   },
   "outputs": [
    {
     "data": {
      "text/plain": [
       "44456     None\n",
       "14969     None\n",
       "49326     None\n",
       "239976    None\n",
       "75818     None\n",
       "122250    None\n",
       "47648     None\n",
       "175254    None\n",
       "158771    None\n",
       "116917    None\n",
       "205014    None\n",
       "53981     None\n",
       "215374    None\n",
       "77674     None\n",
       "5632      None\n",
       "192634    None\n",
       "139063    None\n",
       "196169    None\n",
       "66903     None\n",
       "43885     None\n",
       "265078    None\n",
       "283404    None\n",
       "137697    None\n",
       "281844    None\n",
       "129845    None\n",
       "25778     None\n",
       "120335    None\n",
       "251859    None\n",
       "122040    None\n",
       "266838    None\n",
       "          ... \n",
       "13258     None\n",
       "80244     None\n",
       "213392    None\n",
       "167277    None\n",
       "218415    None\n",
       "69566     None\n",
       "287974    None\n",
       "243664    None\n",
       "134437    None\n",
       "12870     None\n",
       "48234     None\n",
       "203302    None\n",
       "82732     None\n",
       "153305    None\n",
       "150455    None\n",
       "146833    None\n",
       "246254    None\n",
       "211579    None\n",
       "86412     None\n",
       "16759     None\n",
       "97250     None\n",
       "85575     None\n",
       "91189     None\n",
       "116385    None\n",
       "47753     None\n",
       "248806    None\n",
       "232090    None\n",
       "168721    None\n",
       "69489     None\n",
       "7609      None\n",
       "Name: image_name, Length: 25000, dtype: object"
      ]
     },
     "execution_count": 37,
     "metadata": {},
     "output_type": "execute_result"
    }
   ],
   "source": [
    "part['image_name'].apply(copy_sub)"
   ]
  },
  {
   "cell_type": "code",
   "execution_count": null,
   "metadata": {
    "collapsed": true
   },
   "outputs": [],
   "source": []
  }
 ],
 "metadata": {
  "kernelspec": {
   "display_name": "Python 3",
   "language": "python",
   "name": "python3"
  },
  "language_info": {
   "codemirror_mode": {
    "name": "ipython",
    "version": 3
   },
   "file_extension": ".py",
   "mimetype": "text/x-python",
   "name": "python",
   "nbconvert_exporter": "python",
   "pygments_lexer": "ipython3",
   "version": "3.6.1"
  }
 },
 "nbformat": 4,
 "nbformat_minor": 2
}
