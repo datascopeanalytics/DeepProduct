{
 "cells": [
  {
   "cell_type": "code",
   "execution_count": 1,
   "metadata": {
    "collapsed": true
   },
   "outputs": [],
   "source": [
    "import pandas as pd\n",
    "import numpy as np"
   ]
  },
  {
   "cell_type": "code",
   "execution_count": 2,
   "metadata": {
    "collapsed": true
   },
   "outputs": [],
   "source": [
    "df = pd.read_table('Data/DeepFashion/list_attr_img.txt',skiprows=1,sep='\\s+',header=None)\n",
    "bbox = pd.read_table('Data/DeepFashion/list_bbox.txt',sep='\\s+')\n",
    "joined = bbox.join(df,lsuffix='image_name',rsuffix='0')"
   ]
  },
  {
   "cell_type": "code",
   "execution_count": 3,
   "metadata": {
    "collapsed": true
   },
   "outputs": [],
   "source": [
    "attr = (df.iloc[:,6:].values>0)"
   ]
  },
  {
   "cell_type": "code",
   "execution_count": 4,
   "metadata": {
    "collapsed": true
   },
   "outputs": [],
   "source": [
    "%matplotlib inline\n",
    "import matplotlib.pyplot as plt"
   ]
  },
  {
   "cell_type": "code",
   "execution_count": 5,
   "metadata": {},
   "outputs": [
    {
     "data": {
      "text/plain": [
       "(array([ 940.,   40.,    5.,    4.,    3.,    1.,    1.,    0.,    0.,    1.]),\n",
       " array([    51. ,   3782.6,   7514.2,  11245.8,  14977.4,  18709. ,\n",
       "         22440.6,  26172.2,  29903.8,  33635.4,  37367. ]),\n",
       " <a list of 10 Patch objects>)"
      ]
     },
     "execution_count": 5,
     "metadata": {},
     "output_type": "execute_result"
    },
    {
     "data": {
      "image/png": "[encoded data removed]",
      "text/plain": [
       "<matplotlib.figure.Figure at 0x112700860>"
      ]
     },
     "metadata": {},
     "output_type": "display_data"
    }
   ],
   "source": [
    "plt.hist(np.sum(attr,axis=0))"
   ]
  },
  {
   "cell_type": "code",
   "execution_count": 31,
   "metadata": {
    "scrolled": true
   },
   "outputs": [],
   "source": [
    "a_counts = (np.sum(attr,axis=0))"
   ]
  },
  {
   "cell_type": "code",
   "execution_count": 37,
   "metadata": {},
   "outputs": [
    {
     "data": {
      "text/plain": [
       "206"
      ]
     },
     "execution_count": 37,
     "metadata": {},
     "output_type": "execute_result"
    }
   ],
   "source": [
    "np.sum(a_counts>1000)"
   ]
  },
  {
   "cell_type": "code",
   "execution_count": 42,
   "metadata": {},
   "outputs": [],
   "source": [
    "top_a = np.flip(a_counts.argsort(),0)[:206]"
   ]
  },
  {
   "cell_type": "code",
   "execution_count": 7,
   "metadata": {
    "collapsed": true
   },
   "outputs": [],
   "source": [
    "top_classes = np.where(np.sum(attr,axis=0) > 1000)[0]"
   ]
  },
  {
   "cell_type": "code",
   "execution_count": 43,
   "metadata": {},
   "outputs": [],
   "source": [
    "attr_subset = attr[:,top_a]"
   ]
  },
  {
   "cell_type": "code",
   "execution_count": 45,
   "metadata": {
    "scrolled": true
   },
   "outputs": [
    {
     "data": {
      "text/plain": [
       "(array([ 160.,   34.,    4.,    2.,    3.,    1.,    1.,    0.,    0.,    1.]),\n",
       " array([  1012. ,   4647.5,   8283. ,  11918.5,  15554. ,  19189.5,\n",
       "         22825. ,  26460.5,  30096. ,  33731.5,  37367. ]),\n",
       " <a list of 10 Patch objects>)"
      ]
     },
     "execution_count": 45,
     "metadata": {},
     "output_type": "execute_result"
    },
    {
     "data": {
      "image/png": "[encoded data removed]",
      "text/plain": [
       "<matplotlib.figure.Figure at 0x110319f60>"
      ]
     },
     "metadata": {},
     "output_type": "display_data"
    }
   ],
   "source": [
    "plt.hist(np.sum(attr_subset,axis=0))"
   ]
  },
  {
   "cell_type": "code",
   "execution_count": 50,
   "metadata": {},
   "outputs": [],
   "source": [
    "subset = pd.DataFrame([], columns=joined.columns)"
   ]
  },
  {
   "cell_type": "code",
   "execution_count": 51,
   "metadata": {
    "scrolled": true
   },
   "outputs": [
    {
     "name": "stdout",
     "output_type": "stream",
     "text": [
      "1000\n",
      "1000\n",
      "1000\n",
      "995\n",
      "1000\n",
      "993\n",
      "989\n",
      "1000\n",
      "999\n",
      "1000\n",
      "1000\n",
      "1000\n",
      "993\n",
      "982\n",
      "896\n",
      "1000\n",
      "993\n",
      "1000\n",
      "997\n",
      "994\n",
      "988\n",
      "999\n",
      "993\n",
      "967\n",
      "984\n",
      "1000\n",
      "940\n",
      "992\n",
      "999\n",
      "888\n",
      "992\n",
      "1000\n",
      "1000\n",
      "979\n",
      "992\n",
      "996\n",
      "998\n",
      "1000\n",
      "951\n",
      "953\n",
      "968\n",
      "887\n",
      "969\n",
      "958\n",
      "957\n",
      "807\n",
      "1000\n",
      "993\n",
      "991\n",
      "982\n",
      "972\n",
      "963\n",
      "992\n",
      "953\n",
      "647\n",
      "45\n",
      "984\n",
      "969\n",
      "974\n",
      "946\n",
      "753\n",
      "995\n",
      "986\n",
      "880\n",
      "991\n",
      "1000\n",
      "955\n",
      "981\n",
      "953\n",
      "891\n",
      "921\n",
      "999\n",
      "823\n",
      "960\n",
      "999\n",
      "989\n",
      "857\n",
      "466\n",
      "663\n",
      "997\n",
      "625\n",
      "968\n",
      "990\n",
      "993\n",
      "931\n",
      "647\n",
      "977\n",
      "982\n",
      "980\n",
      "269\n",
      "953\n",
      "973\n",
      "773\n",
      "957\n",
      "995\n",
      "992\n",
      "974\n",
      "627\n",
      "994\n",
      "767\n",
      "929\n",
      "862\n",
      "617\n",
      "975\n",
      "989\n",
      "986\n",
      "915\n",
      "956\n",
      "991\n",
      "957\n",
      "990\n",
      "968\n",
      "870\n",
      "620\n",
      "739\n",
      "975\n",
      "927\n",
      "849\n",
      "912\n",
      "481\n",
      "967\n",
      "811\n",
      "971\n",
      "501\n",
      "953\n",
      "978\n",
      "976\n",
      "838\n",
      "900\n",
      "841\n",
      "197\n",
      "962\n",
      "990\n",
      "917\n",
      "921\n",
      "991\n",
      "285\n",
      "898\n",
      "817\n",
      "971\n",
      "669\n",
      "275\n",
      "908\n",
      "723\n",
      "417\n",
      "983\n",
      "994\n",
      "915\n",
      "948\n",
      "508\n",
      "986\n",
      "955\n",
      "947\n",
      "880\n",
      "950\n",
      "884\n",
      "932\n",
      "950\n",
      "76\n",
      "980\n",
      "806\n",
      "923\n",
      "929\n",
      "891\n",
      "916\n",
      "694\n",
      "945\n",
      "835\n",
      "535\n",
      "967\n",
      "7\n",
      "969\n",
      "968\n",
      "196\n",
      "976\n",
      "944\n",
      "981\n",
      "7\n",
      "83\n",
      "883\n",
      "983\n",
      "590\n",
      "807\n"
     ]
    }
   ],
   "source": [
    "for a in top_a[::-1]:\n",
    "    needed = 1000 - np.sum(subset.iloc[:,6+a]>0)\n",
    "    if needed > 0:\n",
    "        print(needed)\n",
    "        has_attr = joined[joined.iloc[:,6+a]>0]\n",
    "        sample = np.random.randint(has_attr.shape[0],size=needed)\n",
    "        subset = subset.append(has_attr.iloc[sample])"
   ]
  },
  {
   "cell_type": "code",
   "execution_count": 15,
   "metadata": {
    "scrolled": true
   },
   "outputs": [
    {
     "data": {
      "text/plain": [
       "(162418, 1006)"
      ]
     },
     "execution_count": 15,
     "metadata": {},
     "output_type": "execute_result"
    }
   ],
   "source": [
    "subset.shape"
   ]
  },
  {
   "cell_type": "code",
   "execution_count": 25,
   "metadata": {
    "collapsed": true
   },
   "outputs": [],
   "source": [
    "attr_subset = (subset.iloc[:,6+top_classes].values>0)"
   ]
  },
  {
   "cell_type": "code",
   "execution_count": 53,
   "metadata": {},
   "outputs": [
    {
     "data": {
      "text/plain": [
       "(array([  8.30540000e+04,   7.36020000e+04,   9.64340000e+04,\n",
       "          1.95630000e+04,   9.45900000e+03,   5.90300000e+03,\n",
       "          7.62000000e+02,   4.02000000e+02,   2.90000000e+01,\n",
       "          1.40000000e+01]),\n",
       " array([  0. ,   1.4,   2.8,   4.2,   5.6,   7. ,   8.4,   9.8,  11.2,\n",
       "         12.6,  14. ]),\n",
       " <a list of 10 Patch objects>)"
      ]
     },
     "execution_count": 53,
     "metadata": {},
     "output_type": "execute_result"
    },
    {
     "data": {
      "image/png": "[encoded data removed]",
      "text/plain": [
       "<matplotlib.figure.Figure at 0x113f4fda0>"
      ]
     },
     "metadata": {},
     "output_type": "display_data"
    }
   ],
   "source": [
    "plt.hist(np.sum(attr_subset,axis=1))"
   ]
  },
  {
   "cell_type": "code",
   "execution_count": 52,
   "metadata": {},
   "outputs": [
    {
     "data": {
      "text/plain": [
       "array([2, 2, 4, ..., 2, 4, 4])"
      ]
     },
     "execution_count": 52,
     "metadata": {},
     "output_type": "execute_result"
    }
   ],
   "source": [
    "np.sum(attr_subset,axis=1)"
   ]
  },
  {
   "cell_type": "code",
   "execution_count": null,
   "metadata": {
    "collapsed": true
   },
   "outputs": [],
   "source": []
  }
 ],
 "metadata": {
  "kernelspec": {
   "display_name": "Python 3",
   "language": "python",
   "name": "python3"
  },
  "language_info": {
   "codemirror_mode": {
    "name": "ipython",
    "version": 3
   },
   "file_extension": ".py",
   "mimetype": "text/x-python",
   "name": "python",
   "nbconvert_exporter": "python",
   "pygments_lexer": "ipython3",
   "version": "3.6.1"
  }
 },
 "nbformat": 4,
 "nbformat_minor": 2
}
